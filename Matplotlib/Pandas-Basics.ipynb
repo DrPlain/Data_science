{
 "cells": [
  {
   "cell_type": "code",
   "execution_count": 8,
   "id": "e61470f1",
   "metadata": {},
   "outputs": [],
   "source": [
    "from matplotlib import pyplot as plt\n",
    "import pandas as pd\n",
    "import csv\n",
    "from collections import Counter"
   ]
  },
  {
   "cell_type": "code",
   "execution_count": null,
   "id": "b13cc8dd",
   "metadata": {},
   "outputs": [],
   "source": [
    "df = pd.read_csv('data.csv')"
   ]
  },
  {
   "cell_type": "code",
   "execution_count": null,
   "id": "f3c524fd",
   "metadata": {},
   "outputs": [],
   "source": [
    "df"
   ]
  },
  {
   "cell_type": "code",
   "execution_count": null,
   "id": "77e6e317",
   "metadata": {},
   "outputs": [],
   "source": [
    "df.shape"
   ]
  },
  {
   "cell_type": "code",
   "execution_count": null,
   "id": "1e37789f",
   "metadata": {},
   "outputs": [],
   "source": [
    "df.head(10)"
   ]
  },
  {
   "cell_type": "code",
   "execution_count": null,
   "id": "253a1da1",
   "metadata": {},
   "outputs": [],
   "source": [
    "df.info()"
   ]
  },
  {
   "cell_type": "code",
   "execution_count": null,
   "id": "c3fd2e75",
   "metadata": {},
   "outputs": [],
   "source": [
    "pd.set_option('display.max_columns', 4)"
   ]
  },
  {
   "cell_type": "code",
   "execution_count": null,
   "id": "1ae1ce0e",
   "metadata": {},
   "outputs": [],
   "source": [
    "df.tail(10)"
   ]
  },
  {
   "cell_type": "code",
   "execution_count": null,
   "id": "cec0c76a",
   "metadata": {},
   "outputs": [],
   "source": [
    "#To represent dict as dataframe using pandas\n",
    "#df = pd.DataFrame()"
   ]
  },
  {
   "cell_type": "code",
   "execution_count": 6,
   "id": "9514053a",
   "metadata": {},
   "outputs": [],
   "source": [
    "ids = df['Responder_id'] #df.Responder_id is alternate syntax but not preferred to avoid crash with an attribute\n",
    "languages = df['LanguagesWorkedWith']"
   ]
  },
  {
   "cell_type": "code",
   "execution_count": null,
   "id": "fef8f244",
   "metadata": {},
   "outputs": [],
   "source": [
    "ids.head()\n",
    "languages.head()"
   ]
  },
  {
   "cell_type": "code",
   "execution_count": null,
   "id": "88c9c049",
   "metadata": {},
   "outputs": [],
   "source": [
    "#series is equivalent to a single column\n",
    "type(languages)"
   ]
  },
  {
   "cell_type": "code",
   "execution_count": null,
   "id": "ebcdb205",
   "metadata": {},
   "outputs": [],
   "source": [
    "ids_ = df.Responder_id"
   ]
  },
  {
   "cell_type": "code",
   "execution_count": null,
   "id": "ce8d7718",
   "metadata": {},
   "outputs": [],
   "source": [
    "df.columns"
   ]
  },
  {
   "cell_type": "code",
   "execution_count": null,
   "id": "0e1db2de",
   "metadata": {},
   "outputs": [],
   "source": [
    "#Getting specified rows of our data using integer location(index)\n",
    "df.iloc[[0,3]]"
   ]
  },
  {
   "cell_type": "code",
   "execution_count": null,
   "id": "e10011c4",
   "metadata": {},
   "outputs": [],
   "source": [
    "#Getting specified rows and columns of our data\n",
    "df.iloc[[0,3], 1]"
   ]
  },
  {
   "cell_type": "code",
   "execution_count": null,
   "id": "c0ec6ebc",
   "metadata": {},
   "outputs": [],
   "source": [
    "#Getting specified rows and columns of our data using location(label)\n",
    "df.iloc[[3], 1]"
   ]
  },
  {
   "cell_type": "code",
   "execution_count": null,
   "id": "e8b5a6e5",
   "metadata": {},
   "outputs": [],
   "source": [
    "languages.value_counts()"
   ]
  },
  {
   "cell_type": "code",
   "execution_count": null,
   "id": "e9f66510",
   "metadata": {},
   "outputs": [],
   "source": [
    "#Setting and resetting indexes at import\n",
    "df = pd.read_csv('data.csv', index_col = 'Responder_id')"
   ]
  },
  {
   "cell_type": "code",
   "execution_count": null,
   "id": "ed83a39b",
   "metadata": {},
   "outputs": [],
   "source": [
    "#Setting and resetting indexes after import\n",
    "#without inplace=True, effect will not reflect on data\n",
    "df = pd.read_csv('data.csv')\n",
    "df.set_index('Responder_id', inplace=True)\n",
    "#df.reset_index()"
   ]
  },
  {
   "cell_type": "code",
   "execution_count": null,
   "id": "9950c28f",
   "metadata": {},
   "outputs": [],
   "source": [
    "#To sort in descending order\n",
    "df.sort_index(ascending=False, inplace=True)"
   ]
  },
  {
   "cell_type": "code",
   "execution_count": null,
   "id": "4eea3dc8",
   "metadata": {},
   "outputs": [],
   "source": [
    "df"
   ]
  },
  {
   "cell_type": "code",
   "execution_count": 19,
   "id": "6b51eb63",
   "metadata": {},
   "outputs": [
    {
     "name": "stdout",
     "output_type": "stream",
     "text": [
      "['JavaScript', 'HTML/CSS', 'SQL', 'Python', 'Java', 'Bash/Shell/PowerShell', 'C#', 'PHP', 'C++', 'TypeScript', 'C', 'Other(s):', 'Ruby', 'Go', 'Assembly'] [59219, 55466, 47544, 36443, 35917, 31991, 27097, 23030, 20524, 18523, 18017, 7920, 7331, 7201, 5833]\n"
     ]
    }
   ],
   "source": [
    "languages_f = Counter()\n",
    "for row in languages:\n",
    "    languages_f.update(row.split(';'))\n",
    "    \n",
    "languages_f.most_common(15)\n",
    "program_lang = []\n",
    "popularity = []\n",
    "\n",
    "for item in languages_f.most_common(15):\n",
    "    program_lang.append(item[0])\n",
    "    popularity.append(item[1])\n",
    "program_lang\n",
    "print(program_lang, popularity)"
   ]
  },
  {
   "cell_type": "code",
   "execution_count": null,
   "id": "05e3e9b5",
   "metadata": {},
   "outputs": [],
   "source": []
  }
 ],
 "metadata": {
  "kernelspec": {
   "display_name": "Python 3 (ipykernel)",
   "language": "python",
   "name": "python3"
  },
  "language_info": {
   "codemirror_mode": {
    "name": "ipython",
    "version": 3
   },
   "file_extension": ".py",
   "mimetype": "text/x-python",
   "name": "python",
   "nbconvert_exporter": "python",
   "pygments_lexer": "ipython3",
   "version": "3.10.6"
  }
 },
 "nbformat": 4,
 "nbformat_minor": 5
}
